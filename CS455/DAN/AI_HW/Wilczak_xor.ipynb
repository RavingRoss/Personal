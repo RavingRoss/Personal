{
  "cells": [
    {
      "cell_type": "markdown",
      "metadata": {
        "id": "sm50ojsZXk1c"
      },
      "source": [
        "# Wilczak Daniel\n",
        "\n",
        "Assignment #6-2"
      ]
    },
    {
      "cell_type": "markdown",
      "metadata": {
        "id": "GmuX71ZlXpiB"
      },
      "source": [
        "# Asssignment"
      ]
    },
    {
      "cell_type": "markdown",
      "metadata": {
        "id": "tAEFZHLlUk4u"
      },
      "source": [
        "import modules"
      ]
    },
    {
      "cell_type": "code",
      "execution_count": null,
      "metadata": {
        "id": "XwksQ2E6pTrM"
      },
      "outputs": [],
      "source": [
        "import numpy as np\n",
        "import matplotlib.pyplot as plt\n",
        "from tensorflow.keras.models import Sequential\n",
        "from tensorflow.keras.layers import Dense"
      ]
    },
    {
      "cell_type": "markdown",
      "metadata": {
        "id": "v36VMttPPQFx"
      },
      "source": [
        "Mouting a drive"
      ]
    },
    {
      "cell_type": "markdown",
      "metadata": {
        "id": "hTD9QeZ-p_NO"
      },
      "source": [
        "Load and split data, then check the number of data"
      ]
    },
    {
      "cell_type": "code",
      "execution_count": null,
      "metadata": {
        "colab": {
          "base_uri": "https://localhost:8080/"
        },
        "id": "469IfTSUqAH4",
        "outputId": "8389843b-c639-4d75-8a01-5c92cf641ec0"
      },
      "outputs": [
        {
          "name": "stdout",
          "output_type": "stream",
          "text": [
            "data: (4, 2)\n",
            "class: (4,)\n"
          ]
        }
      ],
      "source": [
        "dat=np.loadtxt('/gdrive/My Drive/xor.csv', delimiter=',', skiprows=1)\n",
        "data_train=dat[:,:-1]\n",
        "class_train=dat[:,-1]\n",
        "print('data:', data_train.shape)\n",
        "print('class:', class_train.shape)"
      ]
    },
    {
      "cell_type": "markdown",
      "metadata": {
        "id": "zvcVswpJql_a"
      },
      "source": [
        "Model building and learning"
      ]
    },
    {
      "cell_type": "code",
      "execution_count": null,
      "metadata": {
        "id": "8PMPxAIJr21N"
      },
      "outputs": [],
      "source": [
        "model=Sequential()\n",
        "model.add(Dense(5, input_shape=(2,), activation='relu'))\n",
        "model.add(Dense(1, activation='sigmoid'))\n",
        "model.compile(optimizer='rmsprop', loss='binary_crossentropy',\n",
        "metrics=['accuracy'])\n",
        "print(model.summary())\n",
        "fit_log=model.fit(data_train, class_train, epochs=3000, batch_size=1)"
      ]
    },
    {
      "cell_type": "markdown",
      "metadata": {
        "id": "dvxFzKUcsAGp"
      },
      "source": [
        "Graph accuracy"
      ]
    },
    {
      "cell_type": "code",
      "execution_count": null,
      "metadata": {
        "colab": {
          "base_uri": "https://localhost:8080/",
          "height": 295
        },
        "id": "VY8QVaJbsC8u",
        "outputId": "6faa1767-fd46-4609-ebc4-1ef5c1fdd38f"
      },
      "outputs": [
        {
          "data": {
            "image/png": "[encoded data removed]",
            "text/plain": [
              "<Figure size 432x288 with 1 Axes>"
            ]
          },
          "metadata": {
            "needs_background": "light"
          },
          "output_type": "display_data"
        }
      ],
      "source": [
        "plt.plot(fit_log.history['accuracy'], label='train')\n",
        "plt.title('Model Accuracy')\n",
        "plt.xlabel('Epochs')\n",
        "plt.ylabel('Accuracy')\n",
        "plt.legend()\n",
        "plt.show()"
      ]
    },
    {
      "cell_type": "markdown",
      "metadata": {
        "id": "hIYCTa0jsIzf"
      },
      "source": [
        "Find the predicted value for the training data"
      ]
    },
    {
      "cell_type": "code",
      "execution_count": null,
      "metadata": {
        "colab": {
          "base_uri": "https://localhost:8080/"
        },
        "id": "A1D3ogSWsLLR",
        "outputId": "46fc428b-e706-4e19-bc36-e2fa1727a464"
      },
      "outputs": [
        {
          "name": "stdout",
          "output_type": "stream",
          "text": [
            "[[3.7348880e-05]\n",
            " [9.9999195e-01]\n",
            " [9.9999249e-01]\n",
            " [4.8269358e-06]]\n"
          ]
        }
      ],
      "source": [
        "print(model.predict(data_train))"
      ]
    },
    {
      "cell_type": "markdown",
      "metadata": {
        "id": "8vGPuImItWe7"
      },
      "source": [
        "# Optional"
      ]
    },
    {
      "cell_type": "markdown",
      "metadata": {
        "id": "-6A74wGHsnz2"
      },
      "source": [
        "Draw a separating hyperplane: teaching signal"
      ]
    },
    {
      "cell_type": "code",
      "execution_count": null,
      "metadata": {
        "colab": {
          "base_uri": "https://localhost:8080/",
          "height": 279
        },
        "id": "UiUN_PAhtI3J",
        "outputId": "b933f9ac-8bd3-4807-ac7f-b8730ae2035e"
      },
      "outputs": [
        {
          "data": {
            "image/png": "[encoded data removed]",
            "text/plain": [
              "<Figure size 432x288 with 1 Axes>"
            ]
          },
          "metadata": {
            "needs_background": "light"
          },
          "output_type": "display_data"
        }
      ],
      "source": [
        "t1=data_train[class_train==1]\n",
        "t0=data_train[class_train==0]\n",
        "t1_x=t1[:,0]\n",
        "t1_y=t1[:,1]\n",
        "t0_x=t0[:,0]\n",
        "t0_y=t0[:,1]\n",
        "\n",
        "g=np.loadtxt('grid01_21x21.csv', delimiter=',')\n",
        "pred_g=model.predict(g)[:, 0]\n",
        "g1=g[pred_g>=0.5]\n",
        "g0=g[pred_g<0.5]\n",
        "g1_x=g1[:, 0]\n",
        "g1_y=g1[:, 1]\n",
        "g0_x=g0[:, 0]\n",
        "g0_y=g0[:, 1]\n",
        "\n",
        "plt.scatter(t1_x,t1_y,marker='s',facecolors='none',edgecolors='black',s=180)\n",
        "plt.scatter(t0_x,t0_y,marker='o',facecolors='none',edgecolors='black',s=180)\n",
        "plt.scatter(g1_x,g1_y,marker='$1$')\n",
        "plt.scatter(g0_x,g0_y,marker='$0$')\n",
        "plt.gca().set_aspect('equal', adjustable='box')\n",
        "plt.xlim(-0.05,1.05)\n",
        "plt.ylim(-0.05,1.05)\n",
        "plt.xlabel('X')\n",
        "plt.ylabel('Y')\n",
        "plt.show()"
      ]
    }
  ],
  "metadata": {
    "colab": {
      "collapsed_sections": [],
      "name": "Blaylock_xor.ipynb",
      "provenance": []
    },
    "kernelspec": {
      "display_name": "Python 3",
      "name": "python3"
    },
    "language_info": {
      "name": "python"
    }
  },
  "nbformat": 4,
  "nbformat_minor": 0
}
